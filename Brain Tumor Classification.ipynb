{
 "cells": [
  {
   "cell_type": "code",
   "execution_count": 40,
   "id": "1eb5da5e",
   "metadata": {},
   "outputs": [],
   "source": [
    "import os \n",
    "import keras\n",
    "from keras.models import Sequential\n",
    "from keras.layers import Conv2D, MaxPooling2D, Dense, BatchNormalization,Dropout,Flatten\n",
    "from PIL import Image\n",
    "import numpy as np\n",
    "import pandas as pd\n",
    "import matplotlib.pyplot as plt\n",
    "plt.style.use('dark_background')\n",
    "from sklearn.model_selection import  train_test_split\n",
    "from sklearn.preprocessing import OneHotEncoder"
   ]
  },
  {
   "cell_type": "code",
   "execution_count": 4,
   "id": "69cd2e34",
   "metadata": {},
   "outputs": [
    {
     "data": {
      "text/html": [
       "<style>#sk-container-id-1 {color: black;background-color: white;}#sk-container-id-1 pre{padding: 0;}#sk-container-id-1 div.sk-toggleable {background-color: white;}#sk-container-id-1 label.sk-toggleable__label {cursor: pointer;display: block;width: 100%;margin-bottom: 0;padding: 0.3em;box-sizing: border-box;text-align: center;}#sk-container-id-1 label.sk-toggleable__label-arrow:before {content: \"▸\";float: left;margin-right: 0.25em;color: #696969;}#sk-container-id-1 label.sk-toggleable__label-arrow:hover:before {color: black;}#sk-container-id-1 div.sk-estimator:hover label.sk-toggleable__label-arrow:before {color: black;}#sk-container-id-1 div.sk-toggleable__content {max-height: 0;max-width: 0;overflow: hidden;text-align: left;background-color: #f0f8ff;}#sk-container-id-1 div.sk-toggleable__content pre {margin: 0.2em;color: black;border-radius: 0.25em;background-color: #f0f8ff;}#sk-container-id-1 input.sk-toggleable__control:checked~div.sk-toggleable__content {max-height: 200px;max-width: 100%;overflow: auto;}#sk-container-id-1 input.sk-toggleable__control:checked~label.sk-toggleable__label-arrow:before {content: \"▾\";}#sk-container-id-1 div.sk-estimator input.sk-toggleable__control:checked~label.sk-toggleable__label {background-color: #d4ebff;}#sk-container-id-1 div.sk-label input.sk-toggleable__control:checked~label.sk-toggleable__label {background-color: #d4ebff;}#sk-container-id-1 input.sk-hidden--visually {border: 0;clip: rect(1px 1px 1px 1px);clip: rect(1px, 1px, 1px, 1px);height: 1px;margin: -1px;overflow: hidden;padding: 0;position: absolute;width: 1px;}#sk-container-id-1 div.sk-estimator {font-family: monospace;background-color: #f0f8ff;border: 1px dotted black;border-radius: 0.25em;box-sizing: border-box;margin-bottom: 0.5em;}#sk-container-id-1 div.sk-estimator:hover {background-color: #d4ebff;}#sk-container-id-1 div.sk-parallel-item::after {content: \"\";width: 100%;border-bottom: 1px solid gray;flex-grow: 1;}#sk-container-id-1 div.sk-label:hover label.sk-toggleable__label {background-color: #d4ebff;}#sk-container-id-1 div.sk-serial::before {content: \"\";position: absolute;border-left: 1px solid gray;box-sizing: border-box;top: 0;bottom: 0;left: 50%;z-index: 0;}#sk-container-id-1 div.sk-serial {display: flex;flex-direction: column;align-items: center;background-color: white;padding-right: 0.2em;padding-left: 0.2em;position: relative;}#sk-container-id-1 div.sk-item {position: relative;z-index: 1;}#sk-container-id-1 div.sk-parallel {display: flex;align-items: stretch;justify-content: center;background-color: white;position: relative;}#sk-container-id-1 div.sk-item::before, #sk-container-id-1 div.sk-parallel-item::before {content: \"\";position: absolute;border-left: 1px solid gray;box-sizing: border-box;top: 0;bottom: 0;left: 50%;z-index: -1;}#sk-container-id-1 div.sk-parallel-item {display: flex;flex-direction: column;z-index: 1;position: relative;background-color: white;}#sk-container-id-1 div.sk-parallel-item:first-child::after {align-self: flex-end;width: 50%;}#sk-container-id-1 div.sk-parallel-item:last-child::after {align-self: flex-start;width: 50%;}#sk-container-id-1 div.sk-parallel-item:only-child::after {width: 0;}#sk-container-id-1 div.sk-dashed-wrapped {border: 1px dashed gray;margin: 0 0.4em 0.5em 0.4em;box-sizing: border-box;padding-bottom: 0.4em;background-color: white;}#sk-container-id-1 div.sk-label label {font-family: monospace;font-weight: bold;display: inline-block;line-height: 1.2em;}#sk-container-id-1 div.sk-label-container {text-align: center;}#sk-container-id-1 div.sk-container {/* jupyter's `normalize.less` sets `[hidden] { display: none; }` but bootstrap.min.css set `[hidden] { display: none !important; }` so we also need the `!important` here to be able to override the default hidden behavior on the sphinx rendered scikit-learn.org. See: https://github.com/scikit-learn/scikit-learn/issues/21755 */display: inline-block !important;position: relative;}#sk-container-id-1 div.sk-text-repr-fallback {display: none;}</style><div id=\"sk-container-id-1\" class=\"sk-top-container\"><div class=\"sk-text-repr-fallback\"><pre>OneHotEncoder()</pre><b>In a Jupyter environment, please rerun this cell to show the HTML representation or trust the notebook. <br />On GitHub, the HTML representation is unable to render, please try loading this page with nbviewer.org.</b></div><div class=\"sk-container\" hidden><div class=\"sk-item\"><div class=\"sk-estimator sk-toggleable\"><input class=\"sk-toggleable__control sk-hidden--visually\" id=\"sk-estimator-id-1\" type=\"checkbox\" checked><label for=\"sk-estimator-id-1\" class=\"sk-toggleable__label sk-toggleable__label-arrow\">OneHotEncoder</label><div class=\"sk-toggleable__content\"><pre>OneHotEncoder()</pre></div></div></div></div></div>"
      ],
      "text/plain": [
       "OneHotEncoder()"
      ]
     },
     "execution_count": 4,
     "metadata": {},
     "output_type": "execute_result"
    }
   ],
   "source": [
    "encoder = OneHotEncoder()\n",
    "encoder.fit([[0],[1]])\n",
    "\n",
    "#o-->yes\n",
    "#1-->No"
   ]
  },
  {
   "cell_type": "code",
   "execution_count": 20,
   "id": "1bd75587",
   "metadata": {},
   "outputs": [],
   "source": [
    "data=[]\n",
    "paths=[]\n",
    "result=[]\n",
    "\n",
    "for r,d,f in os.walk(r'brain_tumor_dataset/yes'):\n",
    "    for file in f:\n",
    "        if '.jpg' in file:\n",
    "            paths.append(os.path.join(r,file))\n",
    "            \n",
    "for path in paths:\n",
    "    img = Image.open(path)\n",
    "    img = img.resize([128,128])\n",
    "    img = np.array(img)\n",
    "    if img.shape ==(128,128,3):\n",
    "        data.append(np.array(img))\n",
    "        result.append(encoder.transform([[0]]).toarray())"
   ]
  },
  {
   "cell_type": "code",
   "execution_count": 21,
   "id": "7940441d",
   "metadata": {},
   "outputs": [],
   "source": [
    "paths=[]\n",
    "for r,d,f in os.walk(r'brain_tumor_dataset/no'):\n",
    "    for file in f:\n",
    "        if '.jpg' in file:\n",
    "            paths.append(os.path.join(r,file))\n",
    "            \n",
    "for path in paths:\n",
    "    img = Image.open(path)\n",
    "    img = img.resize([128,128])\n",
    "    img = np.array(img)\n",
    "    if img.shape ==(128,128,3):\n",
    "        data.append(np.array(img))\n",
    "        result.append(encoder.transform([[1]]).toarray())"
   ]
  },
  {
   "cell_type": "code",
   "execution_count": 31,
   "id": "0614f34c",
   "metadata": {},
   "outputs": [
    {
     "data": {
      "text/plain": [
       "(139, 128, 128, 3)"
      ]
     },
     "execution_count": 31,
     "metadata": {},
     "output_type": "execute_result"
    }
   ],
   "source": [
    "data = np.array(data)\n",
    "data.shape"
   ]
  },
  {
   "cell_type": "code",
   "execution_count": 35,
   "id": "171fe33a",
   "metadata": {},
   "outputs": [
    {
     "data": {
      "text/plain": [
       "(139, 2)"
      ]
     },
     "execution_count": 35,
     "metadata": {},
     "output_type": "execute_result"
    }
   ],
   "source": [
    "result=np.array(result)\n",
    "result=result.reshape(139,2)\n",
    "result.shape"
   ]
  },
  {
   "cell_type": "code",
   "execution_count": 36,
   "id": "d3141901",
   "metadata": {},
   "outputs": [],
   "source": [
    "x_train,x_test,y_train,y_test = train_test_split(data,result,test_size=0.2,shuffle = True, random_state=0)\n"
   ]
  },
  {
   "cell_type": "code",
   "execution_count": 44,
   "id": "26134e10",
   "metadata": {},
   "outputs": [
    {
     "name": "stdout",
     "output_type": "stream",
     "text": [
      "Model: \"sequential_3\"\n",
      "_________________________________________________________________\n",
      " Layer (type)                Output Shape              Param #   \n",
      "=================================================================\n",
      " conv2d_10 (Conv2D)          (None, 128, 128, 32)      416       \n",
      "                                                                 \n",
      " conv2d_11 (Conv2D)          (None, 128, 128, 32)      4128      \n",
      "                                                                 \n",
      " batch_normalization_5 (Batc  (None, 128, 128, 32)     128       \n",
      " hNormalization)                                                 \n",
      "                                                                 \n",
      " max_pooling2d_5 (MaxPooling  (None, 64, 64, 32)       0         \n",
      " 2D)                                                             \n",
      "                                                                 \n",
      " dropout_5 (Dropout)         (None, 64, 64, 32)        0         \n",
      "                                                                 \n",
      " conv2d_12 (Conv2D)          (None, 64, 64, 64)        8256      \n",
      "                                                                 \n",
      " conv2d_13 (Conv2D)          (None, 64, 64, 64)        16448     \n",
      "                                                                 \n",
      " batch_normalization_6 (Batc  (None, 64, 64, 64)       256       \n",
      " hNormalization)                                                 \n",
      "                                                                 \n",
      " max_pooling2d_6 (MaxPooling  (None, 32, 32, 64)       0         \n",
      " 2D)                                                             \n",
      "                                                                 \n",
      " dropout_6 (Dropout)         (None, 32, 32, 64)        0         \n",
      "                                                                 \n",
      " flatten_1 (Flatten)         (None, 65536)             0         \n",
      "                                                                 \n",
      " dense_2 (Dense)             (None, 512)               33554944  \n",
      "                                                                 \n",
      " dropout_7 (Dropout)         (None, 512)               0         \n",
      "                                                                 \n",
      " dense_3 (Dense)             (None, 2)                 1026      \n",
      "                                                                 \n",
      "=================================================================\n",
      "Total params: 33,585,602\n",
      "Trainable params: 33,585,410\n",
      "Non-trainable params: 192\n",
      "_________________________________________________________________\n",
      "None\n"
     ]
    }
   ],
   "source": [
    "model = Sequential()\n",
    "\n",
    "model.add(Conv2D(32,kernel_size=(2,2),input_shape=(128,128,3),padding='Same'))\n",
    "model.add(Conv2D(32,kernel_size=(2,2),input_shape=(128,128,3),padding='Same'))\n",
    "\n",
    "model.add(BatchNormalization())\n",
    "model.add(MaxPooling2D(pool_size=(2,2)))\n",
    "model.add(Dropout(0.25))\n",
    "\n",
    "model.add(Conv2D(64,kernel_size=(2,2),activation='relu',padding='Same'))\n",
    "model.add(Conv2D(64,kernel_size=(2,2),activation='relu',padding='Same'))\n",
    "\n",
    "model.add(BatchNormalization())\n",
    "model.add(MaxPooling2D(pool_size=(2,2),strides=(2,2)))\n",
    "model.add(Dropout(0.25))\n",
    "\n",
    "model.add(Flatten())\n",
    "\n",
    "\n",
    "model.add(Dense(512,activation='relu'))\n",
    "model.add(Dropout(0.5))\n",
    "model.add(Dense(2,activation='softmax'))\n",
    "\n",
    "model.compile(loss='categorical_crossentropy',optimizer = 'Adamax')\n",
    "print(model.summary())"
   ]
  },
  {
   "cell_type": "code",
   "execution_count": 45,
   "id": "c12e8c1e",
   "metadata": {},
   "outputs": [
    {
     "data": {
      "text/plain": [
       "(111, 2)"
      ]
     },
     "execution_count": 45,
     "metadata": {},
     "output_type": "execute_result"
    }
   ],
   "source": [
    "y_train.shape"
   ]
  },
  {
   "cell_type": "code",
   "execution_count": 77,
   "id": "edb5ccb8",
   "metadata": {},
   "outputs": [
    {
     "name": "stdout",
     "output_type": "stream",
     "text": [
      "Epoch 1/30\n",
      "3/3 [==============================] - 8s 3s/step - loss: 0.0269 - val_loss: 10.4649\n",
      "Epoch 2/30\n",
      "3/3 [==============================] - 8s 3s/step - loss: 0.0063 - val_loss: 9.6257\n",
      "Epoch 3/30\n",
      "3/3 [==============================] - 8s 3s/step - loss: 0.0258 - val_loss: 9.1966\n",
      "Epoch 4/30\n",
      "3/3 [==============================] - 8s 3s/step - loss: 0.2177 - val_loss: 9.9016\n",
      "Epoch 5/30\n",
      "3/3 [==============================] - 8s 3s/step - loss: 0.0432 - val_loss: 11.8109\n",
      "Epoch 6/30\n",
      "3/3 [==============================] - 8s 3s/step - loss: 0.0435 - val_loss: 12.3731\n",
      "Epoch 7/30\n",
      "3/3 [==============================] - 8s 3s/step - loss: 0.0011 - val_loss: 12.7143\n",
      "Epoch 8/30\n",
      "3/3 [==============================] - 9s 3s/step - loss: 0.0133 - val_loss: 12.7849\n",
      "Epoch 9/30\n",
      "3/3 [==============================] - 10s 3s/step - loss: 0.0128 - val_loss: 12.5342\n",
      "Epoch 10/30\n",
      "3/3 [==============================] - 10s 3s/step - loss: 0.0594 - val_loss: 12.2206\n",
      "Epoch 11/30\n",
      "3/3 [==============================] - 9s 3s/step - loss: 0.0899 - val_loss: 11.7111\n",
      "Epoch 12/30\n",
      "3/3 [==============================] - 9s 3s/step - loss: 9.5287e-06 - val_loss: 11.2672\n",
      "Epoch 13/30\n",
      "3/3 [==============================] - 8s 3s/step - loss: 0.0019 - val_loss: 10.9315\n",
      "Epoch 14/30\n",
      "3/3 [==============================] - 8s 3s/step - loss: 0.0090 - val_loss: 10.6347\n",
      "Epoch 15/30\n",
      "3/3 [==============================] - 8s 3s/step - loss: 0.0755 - val_loss: 10.9048\n",
      "Epoch 16/30\n",
      "3/3 [==============================] - 8s 3s/step - loss: 0.0106 - val_loss: 10.7900\n",
      "Epoch 17/30\n",
      "3/3 [==============================] - 8s 3s/step - loss: 7.6780e-05 - val_loss: 10.5730\n",
      "Epoch 18/30\n",
      "3/3 [==============================] - 9s 3s/step - loss: 0.0017 - val_loss: 10.4261\n",
      "Epoch 19/30\n",
      "3/3 [==============================] - 9s 3s/step - loss: 4.7694e-05 - val_loss: 10.2935\n",
      "Epoch 20/30\n",
      "3/3 [==============================] - 9s 3s/step - loss: 5.3510e-04 - val_loss: 10.1658\n",
      "Epoch 21/30\n",
      "3/3 [==============================] - 8s 3s/step - loss: 0.0215 - val_loss: 10.2859\n",
      "Epoch 22/30\n",
      "3/3 [==============================] - 8s 3s/step - loss: 6.7201e-04 - val_loss: 10.4414\n",
      "Epoch 23/30\n",
      "3/3 [==============================] - 8s 3s/step - loss: 0.0013 - val_loss: 10.5264\n",
      "Epoch 24/30\n",
      "3/3 [==============================] - 9s 3s/step - loss: 0.0080 - val_loss: 10.4783\n",
      "Epoch 25/30\n",
      "3/3 [==============================] - 8s 3s/step - loss: 4.1105e-04 - val_loss: 10.3905\n",
      "Epoch 26/30\n",
      "3/3 [==============================] - 8s 3s/step - loss: 0.0096 - val_loss: 9.9044\n",
      "Epoch 27/30\n",
      "3/3 [==============================] - 8s 3s/step - loss: 4.3341e-05 - val_loss: 9.5396\n",
      "Epoch 28/30\n",
      "3/3 [==============================] - 8s 3s/step - loss: 0.0019 - val_loss: 9.2511\n",
      "Epoch 29/30\n",
      "3/3 [==============================] - 8s 3s/step - loss: 0.0027 - val_loss: 9.0281\n",
      "Epoch 30/30\n",
      "3/3 [==============================] - 8s 3s/step - loss: 9.2674e-05 - val_loss: 8.8528\n"
     ]
    }
   ],
   "source": [
    "history = model.fit(x_train,y_train,epochs=30,batch_size=40,verbose = 1,validation_data=(x_test,y_test))"
   ]
  },
  {
   "cell_type": "code",
   "execution_count": 78,
   "id": "7299b90e",
   "metadata": {},
   "outputs": [
    {
     "data": {
      "image/png": "[encoded data removed]",
      "text/plain": [
       "<Figure size 432x288 with 1 Axes>"
      ]
     },
     "metadata": {},
     "output_type": "display_data"
    }
   ],
   "source": [
    "plt.plot(history.history['loss'])\n",
    "plt.plot(history.history['val_loss'])\n",
    "plt.title('Model Loss')\n",
    "plt.xlabel('Loss')\n",
    "plt.ylabel('Epoch')\n",
    "plt.legend(['Test','Validation'],loc='upper right')\n",
    "plt.show()"
   ]
  },
  {
   "cell_type": "code",
   "execution_count": 87,
   "id": "de54375a",
   "metadata": {},
   "outputs": [],
   "source": [
    "def names(number):\n",
    "    if(number==0):\n",
    "        return 'a Tumor'\n",
    "    else:\n",
    "        return 'not a Tumor'"
   ]
  },
  {
   "cell_type": "code",
   "execution_count": 93,
   "id": "6eab93ed",
   "metadata": {},
   "outputs": [
    {
     "name": "stdout",
     "output_type": "stream",
     "text": [
      "100.0% Confidence This Is not a Tumor\n"
     ]
    },
    {
     "data": {
      "image/png": "[encoded data removed]",
      "text/plain": [
       "<Figure size 432x288 with 1 Axes>"
      ]
     },
     "metadata": {},
     "output_type": "display_data"
    }
   ],
   "source": [
    "from matplotlib.pyplot import imshow\n",
    "img = Image.open(r'brain_tumor_dataset/no/37 no.jpg')\n",
    "x = np.array(img.resize((128,128)))\n",
    "x = x.reshape(1,128,128,3)\n",
    "res=model.predict_on_batch(x)\n",
    "classification = np.where(res == np.amax(res))[1][0]\n",
    "imshow(img)\n",
    "print(str(res[0][classification]*100)+ '% Confidence This Is '+ names(classification))\n"
   ]
  },
  {
   "cell_type": "code",
   "execution_count": 98,
   "id": "b5670a5c",
   "metadata": {},
   "outputs": [],
   "source": [
    "import tkinter as tk\n",
    "from tkinter import filedialog\n",
    "from PIL import Image, ImageTk\n",
    "import numpy as np\n",
    "import tensorflow as tf\n",
    "\n",
    "\n",
    "\n",
    "# Create the GUI window\n",
    "window = tk.Tk()\n",
    "window.title(\"Character Recognition\")\n",
    "window.geometry(\"1000x700\")\n",
    "def names(number):\n",
    "    if(number==0):\n",
    "        return 'a Tumor'\n",
    "    else:\n",
    "        return 'not a Tumor'\n",
    "# Function to preprocess the image and make predictions\n",
    "def predict_character():\n",
    "    # Open file dialog to choose an image\n",
    "    file_path = filedialog.askopenfilename()\n",
    "    if file_path:\n",
    "        img = Image.open(file_path)\n",
    "        x = np.array(img.resize((128,128)))\n",
    "        x = x.reshape(1,128,128,3)\n",
    "        res=model.predict_on_batch(x)\n",
    "        classification = np.where(res == np.amax(res))[1][0]\n",
    "\n",
    "\n",
    "        # Display the predicted character\n",
    "        result_label.config(text=f\"{res[0][classification]*100} % Confidence This Is  {names(classification)}\")\n",
    "\n",
    "        # Display the input image\n",
    "        img = ImageTk.PhotoImage(Image.open(file_path))\n",
    "        image_label.config(image=img)\n",
    "        image_label.image = img\n",
    "\n",
    "# Create the button for image selection\n",
    "select_button = tk.Button(window, text=\"Select Image\", command=predict_character)\n",
    "select_button.pack(pady=10)\n",
    "\n",
    "# Create label to display the predicted character\n",
    "result_label = tk.Label(window, text=\"Predicted Tumor: \")\n",
    "result_label.pack(pady=10)\n",
    "\n",
    "# Create label to display the input image\n",
    "image_label = tk.Label(window)\n",
    "image_label.pack()\n",
    "\n",
    "\n",
    "# Start the GUI main loop\n",
    "window.mainloop()"
   ]
  },
  {
   "cell_type": "code",
   "execution_count": null,
   "id": "598de022",
   "metadata": {},
   "outputs": [],
   "source": []
  },
  {
   "cell_type": "code",
   "execution_count": null,
   "id": "42087323",
   "metadata": {},
   "outputs": [],
   "source": []
  },
  {
   "cell_type": "code",
   "execution_count": null,
   "id": "60e11865",
   "metadata": {},
   "outputs": [],
   "source": []
  }
 ],
 "metadata": {
  "kernelspec": {
   "display_name": "Python 3 (ipykernel)",
   "language": "python",
   "name": "python3"
  },
  "language_info": {
   "codemirror_mode": {
    "name": "ipython",
    "version": 3
   },
   "file_extension": ".py",
   "mimetype": "text/x-python",
   "name": "python",
   "nbconvert_exporter": "python",
   "pygments_lexer": "ipython3",
   "version": "3.9.0"
  }
 },
 "nbformat": 4,
 "nbformat_minor": 5
}
